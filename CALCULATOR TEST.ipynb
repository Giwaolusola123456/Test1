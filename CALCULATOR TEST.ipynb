{
 "cells": [
  {
   "cell_type": "markdown",
   "metadata": {},
   "source": [
    "CALCULATOR TEST"
   ]
  },
  {
   "cell_type": "code",
   "execution_count": 14,
   "metadata": {},
   "outputs": [
    {
     "name": "stdout",
     "output_type": "stream",
     "text": [
      "39.733379501385045\n"
     ]
    }
   ],
   "source": [
    "name= (input (\"please enter your name here: \"))\n",
    "length= int(input(\"please enter your length here: \"))\n",
    "width= int(input(\"please enter your width here: \"))\n",
    "DSC=(length * 765)/((length *(width * width))/length)\n",
    "print(DSC)\n",
    "\n"
   ]
  },
  {
   "cell_type": "code",
   "execution_count": 15,
   "metadata": {},
   "outputs": [
    {
     "name": "stdout",
     "output_type": "stream",
     "text": [
      "Olusola, Severely Far-Extremely Far\n"
     ]
    }
   ],
   "source": [
    "if DSC > 0:\n",
    "    if (DSC < 15.5):\n",
    "        print(name+\", Too short or Minimal\") \n",
    "    elif(DSC < 19.9):\n",
    "        print(name+\", Normal Length-Just Okay\")\n",
    "    elif(DSC < 24.9):\n",
    "        print(name+\", Abit Long-Normal\")\n",
    "    elif(DSC < 29.9):\n",
    "        print(name+\", Long-Far\")\n",
    "    elif(DSC < 34.9):\n",
    "        print(name+\", Very far-Very Far\")\n",
    "    elif(DSC < 39.9):\n",
    "        print(name+\", Severely Far-Extremely Far\")\n",
    "    else:\n",
    "        print(name+\", I'm not doing again-Follow Public Transport\")\n",
    "else:\n",
    "    print(name+\", get a good value.\")\n"
   ]
  },
  {
   "cell_type": "code",
   "execution_count": null,
   "metadata": {},
   "outputs": [],
   "source": []
  }
 ],
 "metadata": {
  "kernelspec": {
   "display_name": "base",
   "language": "python",
   "name": "python3"
  },
  "language_info": {
   "codemirror_mode": {
    "name": "ipython",
    "version": 3
   },
   "file_extension": ".py",
   "mimetype": "text/x-python",
   "name": "python",
   "nbconvert_exporter": "python",
   "pygments_lexer": "ipython3",
   "version": "3.11.5"
  }
 },
 "nbformat": 4,
 "nbformat_minor": 2
}
